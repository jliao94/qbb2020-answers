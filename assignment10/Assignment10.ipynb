{
 "cells": [
  {
   "cell_type": "code",
   "execution_count": 1,
   "metadata": {},
   "outputs": [],
   "source": [
    "#import statements\n",
    "import seaborn as sns\n",
    "import glob\n",
    "import numpy as np\n",
    "import pandas as pd"
   ]
  },
  {
   "cell_type": "markdown",
   "metadata": {},
   "source": [
    "## Step 1: Investigate the taxonomic profile of the reads"
   ]
  },
  {
   "cell_type": "code",
   "execution_count": 2,
   "metadata": {},
   "outputs": [
    {
     "name": "stdout",
     "output_type": "stream",
     "text": [
      "/Users/cmdb/qbb2020-answers/assignment10/week13_data/KRAKEN/SRR492193.kraken_formatted\n",
      "/Users/cmdb/qbb2020-answers/assignment10/week13_data/KRAKEN/SRR492183.kraken_formatted\n",
      "/Users/cmdb/qbb2020-answers/assignment10/week13_data/KRAKEN/SRR492189.kraken_formatted\n",
      "/Users/cmdb/qbb2020-answers/assignment10/week13_data/KRAKEN/SRR492197.kraken_formatted\n",
      "/Users/cmdb/qbb2020-answers/assignment10/week13_data/KRAKEN/SRR492190.kraken_formatted\n",
      "/Users/cmdb/qbb2020-answers/assignment10/week13_data/KRAKEN/SRR492186.kraken_formatted\n",
      "/Users/cmdb/qbb2020-answers/assignment10/week13_data/KRAKEN/SRR492194.kraken_formatted\n",
      "/Users/cmdb/qbb2020-answers/assignment10/week13_data/KRAKEN/SRR492188.kraken_formatted\n"
     ]
    }
   ],
   "source": [
    "#Reformat the kraken files such that they can be read by ktImportText of KronaTools\n",
    "#Then run ktImportText on the command line\n",
    "files = glob.glob(\"/Users/cmdb/qbb2020-answers/assignment10/week13_data/KRAKEN/SRR*kraken\")\n",
    "\n",
    "for file in files:\n",
    "    output_file = file + \"_formatted\"\n",
    "    ofile = open(output_file, 'w')\n",
    "    print(output_file)\n",
    "    #strip the sample ID from the file, then split out the taxonomy tree from semi-colons to tab separated\n",
    "    with open (file, 'r') as f:\n",
    "        for line in f:\n",
    "            fields = line.rstrip().split('\\t')\n",
    "            taxonomy_data = fields[1]\n",
    "            taxonomy_fields = taxonomy_data.split(';')\n",
    "            formatted_string = ''\n",
    "            for field in taxonomy_fields:\n",
    "                formatted_string = formatted_string + field + '\\t'\n",
    "            \n",
    "            ofile.write(formatted_string + '\\n')\n",
    "    \n",
    "    ofile.close()\n"
   ]
  },
  {
   "cell_type": "markdown",
   "metadata": {},
   "source": [
    "## Step 3: Estimate the taxonomy of your putative genomes"
   ]
  },
  {
   "cell_type": "code",
   "execution_count": 3,
   "metadata": {},
   "outputs": [],
   "source": [
    "assembly_file = '/Users/cmdb/qbb2020-answers/assignment10/week13_data/KRAKEN/assembly.kraken'\n",
    "\n",
    "kraken_taxonomies = {}\n",
    "\n",
    "#extract all kraken taxonomies from the assembly file into a dictionary\n",
    "#where the scaffolds IDs are the key, and the taxonomy data is the stored data\n",
    "with open (assembly_file, 'r') as a_file:\n",
    "    for line in a_file:\n",
    "        fields = line.rstrip().split('\\t')\n",
    "        scaffold = fields [0]\n",
    "        if scaffold not in kraken_taxonomies:\n",
    "            taxonomy_data = fields [1]\n",
    "            kraken_taxonomies[scaffold] = taxonomy_data\n",
    "        else:\n",
    "            print(\"I had a duplicate scaffold\")\n",
    "\n",
    "            "
   ]
  },
  {
   "cell_type": "code",
   "execution_count": 4,
   "metadata": {},
   "outputs": [
    {
     "name": "stdout",
     "output_type": "stream",
     "text": [
      "['/Users/cmdb/qbb2020-answers/assignment10/bins/bin.1.fa', '/Users/cmdb/qbb2020-answers/assignment10/bins/bin.2.fa', '/Users/cmdb/qbb2020-answers/assignment10/bins/bin.3.fa', '/Users/cmdb/qbb2020-answers/assignment10/bins/bin.4.fa', '/Users/cmdb/qbb2020-answers/assignment10/bins/bin.5.fa', '/Users/cmdb/qbb2020-answers/assignment10/bins/bin.6.fa', '/Users/cmdb/qbb2020-answers/assignment10/bins/bin.7.fa', '/Users/cmdb/qbb2020-answers/assignment10/bins/bin.8.fa']\n",
      "8\n"
     ]
    }
   ],
   "source": [
    "#extract the scaffold headers from each bin\n",
    "#place scaffold names of each bin in a list, which are stored in another list \n",
    "files = glob.glob(\"/Users/cmdb/qbb2020-answers/assignment10/bins/bin*\")\n",
    "files = sorted(files)\n",
    "print(files)\n",
    "\n",
    "bin_scaffolds = []\n",
    "for file in files:\n",
    "    scaffolds = []\n",
    "    with open(file, 'r') as bin_file:\n",
    "        for line in bin_file:\n",
    "            if \">\" in line:\n",
    "                line = line.rstrip()\n",
    "                line = line[1:]\n",
    "                scaffolds.append(line)\n",
    "    bin_scaffolds.append(scaffolds)\n",
    "  \n",
    "print(len(bin_scaffolds))"
   ]
  },
  {
   "cell_type": "code",
   "execution_count": 5,
   "metadata": {},
   "outputs": [],
   "source": [
    "#grab the corresponding classifications from each bin based on the scaffold names\n",
    "bin_classifications =[]\n",
    "\n",
    "for i, scaffolds in enumerate(bin_scaffolds):\n",
    "    classification = []\n",
    "    for scaffold in scaffolds:\n",
    "        if scaffold in kraken_taxonomies:\n",
    "            classification.append(kraken_taxonomies[scaffold])\n",
    "    bin_classifications.append(classification)\n"
   ]
  },
  {
   "cell_type": "code",
   "execution_count": 6,
   "metadata": {},
   "outputs": [
    {
     "name": "stdout",
     "output_type": "stream",
     "text": [
      "Current bin is 1\n",
      "{'Staphylococcus haemolyticus JCSC1435': 46, 'Staphylococcus epidermidis RP62A': 3, 'Staphylococcus epidermidis ATCC 12228': 4, 'Staphylococcus aureus subsp. aureus CN1': 1, 'Staphylococcus epidermidis': 2, 'Staphylococcus aureus subsp. aureus Mu50': 3, 'Staphylococcus aureus subsp. aureus USA300': 2, 'Staphylococcus aureus subsp. aureus': 1, 'Staphylococcus aureus CA-347': 1, 'Staphylococcus aureus subsp. aureus 11819-97': 1, 'Staphylococcus aureus subsp. aureus ST398': 2, 'Staphylococcus aureus subsp. aureus 6850': 1, 'Staphylococcus aureus subsp. aureus MSSA476': 1, 'Anaerococcus prevotii DSM 20548': 2, 'Staphylococcus aureus subsp. aureus ECT-R 2': 1, 'Staphylococcus': 1}\n",
      "\n",
      "\n",
      "Current bin is 2\n",
      "{'Leuconostoc citreum KM20': 186, 'Leuconostoc kimchii IMSNU 11154': 5, 'Leuconostoc gelidum JB7': 1, 'Leuconostoc mesenteroides subsp. mesenteroides ATCC 8293': 1, 'Streptococcus thermophilus LMD-9': 1}\n",
      "\n",
      "\n",
      "Current bin is 3\n",
      "{'Staphylococcus lugdunensis HKU09-01': 35, 'Staphylococcus lugdunensis N920143': 29, 'Staphylococcus lugdunensis': 10}\n",
      "\n",
      "\n",
      "Current bin is 4\n",
      "{'Enterococcus faecalis OG1RF': 2, 'Enterococcus faecalis V583': 2, 'Enterococcus faecalis str. Symbioflor 1': 1, 'Enterococcus faecalis D32': 1}\n",
      "\n",
      "\n",
      "Current bin is 5\n",
      "{'Cutibacterium avidum 44067': 12}\n",
      "\n",
      "\n",
      "Current bin is 6\n",
      "{'Staphylococcus epidermidis RP62A': 49, 'Staphylococcus epidermidis ATCC 12228': 22, 'Staphylococcus epidermidis': 2}\n",
      "\n",
      "\n",
      "Current bin is 7\n",
      "{'Staphylococcus aureus subsp. aureus CN1': 50, 'Staphylococcus aureus subsp. aureus TCH60': 2, 'Staphylococcus aureus subsp. aureus': 3, 'Staphylococcus aureus subsp. aureus MRSA252': 1, 'Staphylococcus aureus subsp. aureus JKD6159': 1, 'Staphylococcus epidermidis': 1, 'Staphylococcus aureus': 2}\n",
      "\n",
      "\n",
      "Current bin is 8\n",
      "{'Anaerococcus prevotii DSM 20548': 3, 'Finegoldia magna ATCC 29328': 2, 'Streptococcus anginosus C238': 1, 'Clostridium': 1, 'Clostridium novyi NT': 1}\n",
      "\n",
      "\n"
     ]
    }
   ],
   "source": [
    "#count the genus/species within each bin based on kraken taxonomy dictionary\n",
    "#output the species detected in each bin within another dictionary\n",
    "current_bin = 0\n",
    "for bin_classification in bin_classifications:\n",
    "    current_bin +=1\n",
    "    print(\"Current bin is \" + str(current_bin))\n",
    "    species_dict = {}\n",
    "    for classification in bin_classification:\n",
    "        taxonomy_fields = classification.split(';')\n",
    "        species = taxonomy_fields[-1]\n",
    "        if species not in species_dict:\n",
    "            species_dict[species] = 1\n",
    "        else:\n",
    "            species_dict[species] +=1\n",
    "    print(species_dict)\n",
    "    print('\\n')\n",
    "    "
   ]
  },
  {
   "cell_type": "markdown",
   "metadata": {},
   "source": [
    "## Step 4: Make a heatmap of the individual bin abundances over time"
   ]
  },
  {
   "cell_type": "code",
   "execution_count": 7,
   "metadata": {},
   "outputs": [
    {
     "data": {
      "image/png": "[encoded data removed]",
      "text/plain": [
       "<Figure size 720x720 with 4 Axes>"
      ]
     },
     "metadata": {
      "needs_background": "light"
     },
     "output_type": "display_data"
    }
   ],
   "source": [
    "abundance_file = '/Users/cmdb/qbb2020-answers/assignment10/abundance_table.tab'\n",
    "\n",
    "df = pd.read_csv(abundance_file, sep='\\t')\n",
    "\n",
    "#label the bins based on the most abundant genus_species in the bin\n",
    "df.iloc[0,0] = \"Staphylococcus haemolyticus\"\n",
    "df.iloc[1,0] = \"Enterococcus faecalis\"\n",
    "df.iloc[2,0] = \"Leuconostoc citreum\"\n",
    "df.iloc[3,0] = \"Cutibacterium avidum\"\n",
    "df.iloc[4,0] = \"Staphylococcus epidermidis\"\n",
    "df.iloc[5,0] = \"Staphylococcus aureus\"\n",
    "df.iloc[6,0] = \"Anaerococcus prevotii\"\n",
    "df.iloc[7,0] = \"Staphylococcus lugdunensis\"\n",
    "df = df.set_index('Genomic bins')\n",
    "\n",
    "#generate a clustermap using seaborn\n",
    "map = sns.clustermap(df)\n"
   ]
  },
  {
   "cell_type": "code",
   "execution_count": null,
   "metadata": {},
   "outputs": [],
   "source": []
  }
 ],
 "metadata": {
  "kernelspec": {
   "display_name": "Python 3",
   "language": "python",
   "name": "python3"
  },
  "language_info": {
   "codemirror_mode": {
    "name": "ipython",
    "version": 3
   },
   "file_extension": ".py",
   "mimetype": "text/x-python",
   "name": "python",
   "nbconvert_exporter": "python",
   "pygments_lexer": "ipython3",
   "version": "3.6.10"
  }
 },
 "nbformat": 4,
 "nbformat_minor": 4
}
