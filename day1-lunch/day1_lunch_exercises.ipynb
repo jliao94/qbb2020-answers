{
 "cells": [
  {
   "cell_type": "markdown",
   "metadata": {},
   "source": [
    "Import Statements"
   ]
  },
  {
   "cell_type": "code",
   "execution_count": 1,
   "metadata": {},
   "outputs": [],
   "source": [
    "import pandas as pd\n",
    "import matplotlib.pyplot as plt"
   ]
  },
  {
   "cell_type": "markdown",
   "metadata": {},
   "source": [
    "Initial work with Lists"
   ]
  },
  {
   "cell_type": "code",
   "execution_count": 2,
   "metadata": {},
   "outputs": [
    {
     "data": {
      "text/plain": [
       "[1, 2, 3, 4, 5]"
      ]
     },
     "execution_count": 2,
     "metadata": {},
     "output_type": "execute_result"
    }
   ],
   "source": [
    "x = [1, 2, 3, 4, 5]\n",
    "x"
   ]
  },
  {
   "cell_type": "code",
   "execution_count": 3,
   "metadata": {},
   "outputs": [
    {
     "data": {
      "text/plain": [
       "list"
      ]
     },
     "execution_count": 3,
     "metadata": {},
     "output_type": "execute_result"
    }
   ],
   "source": [
    "type( x )"
   ]
  },
  {
   "cell_type": "code",
   "execution_count": 4,
   "metadata": {},
   "outputs": [
    {
     "data": {
      "text/plain": [
       "5"
      ]
     },
     "execution_count": 4,
     "metadata": {},
     "output_type": "execute_result"
    }
   ],
   "source": [
    "len(x)"
   ]
  },
  {
   "cell_type": "code",
   "execution_count": 5,
   "metadata": {},
   "outputs": [
    {
     "data": {
      "text/plain": [
       "2"
      ]
     },
     "execution_count": 5,
     "metadata": {},
     "output_type": "execute_result"
    }
   ],
   "source": [
    "x[1]"
   ]
  },
  {
   "cell_type": "markdown",
   "metadata": {},
   "source": [
    "Plotting a Line"
   ]
  },
  {
   "cell_type": "code",
   "execution_count": 6,
   "metadata": {},
   "outputs": [],
   "source": [
    "y = [1, 4, 9, 16, 25]"
   ]
  },
  {
   "cell_type": "code",
   "execution_count": 7,
   "metadata": {},
   "outputs": [
    {
     "data": {
      "image/png": "[encoded data removed]",
      "text/plain": [
       "<Figure size 432x288 with 1 Axes>"
      ]
     },
     "metadata": {
      "needs_background": "light"
     },
     "output_type": "display_data"
    }
   ],
   "source": [
    "\n",
    "fig, ax = plt.subplots()\n",
    "ax.plot( x, y )\n",
    "plt.show()"
   ]
  },
  {
   "cell_type": "markdown",
   "metadata": {},
   "source": [
    "Plot Multiple Series"
   ]
  },
  {
   "cell_type": "code",
   "execution_count": 8,
   "metadata": {},
   "outputs": [],
   "source": [
    "x2 = [2, 4, 6]\n",
    "y2 = [8, 64, 216]"
   ]
  },
  {
   "cell_type": "code",
   "execution_count": 9,
   "metadata": {},
   "outputs": [
    {
     "data": {
      "image/png": "[encoded data removed]",
      "text/plain": [
       "<Figure size 432x288 with 1 Axes>"
      ]
     },
     "metadata": {
      "needs_background": "light"
     },
     "output_type": "display_data"
    }
   ],
   "source": [
    "fig, ax = plt.subplots()\n",
    "ax.plot( x, y )\n",
    "ax.plot( x2, y2, '+' )\n",
    "plt.show()"
   ]
  },
  {
   "cell_type": "markdown",
   "metadata": {},
   "source": [
    "Annotate Plot"
   ]
  },
  {
   "cell_type": "code",
   "execution_count": 10,
   "metadata": {},
   "outputs": [
    {
     "data": {
      "image/png": "[encoded data removed]",
      "text/plain": [
       "<Figure size 432x288 with 1 Axes>"
      ]
     },
     "metadata": {
      "needs_background": "light"
     },
     "output_type": "display_data"
    }
   ],
   "source": [
    "\n",
    "fig, ax = plt.subplots()\n",
    "ax.plot( x, y, label=\"x^2\" )\n",
    "ax.plot( x2, y2, '+', label=\"x^3\" )\n",
    "ax.set_title( \"Polynomials\" )\n",
    "ax.set_xlabel( \"x\" )\n",
    "ax.set_ylabel( \"f(x)\" )\n",
    "ax.legend()\n",
    "plt.show()\n"
   ]
  },
  {
   "cell_type": "markdown",
   "metadata": {},
   "source": [
    "## Exercise 1: Modify X and Y Axes to Share Scale"
   ]
  },
  {
   "cell_type": "code",
   "execution_count": 11,
   "metadata": {},
   "outputs": [
    {
     "data": {
      "image/png": "[encoded data removed]",
      "text/plain": [
       "<Figure size 432x288 with 2 Axes>"
      ]
     },
     "metadata": {
      "needs_background": "light"
     },
     "output_type": "display_data"
    }
   ],
   "source": [
    "fig, ax = plt.subplots( nrows=2, sharex = True, sharey = True)\n",
    "ax[0].plot( x, y, '.' )\n",
    "ax[1].plot( x2, y2 )\n",
    "plt.show()"
   ]
  },
  {
   "cell_type": "markdown",
   "metadata": {},
   "source": [
    "## Exercise 2: Tidy K4 Chromosome Distributions"
   ]
  },
  {
   "cell_type": "code",
   "execution_count": 12,
   "metadata": {},
   "outputs": [
    {
     "data": {
      "text/plain": [
       "['chr', 'start', 'end']"
      ]
     },
     "execution_count": 12,
     "metadata": {},
     "output_type": "execute_result"
    }
   ],
   "source": [
    "bed_columns = [\"chr\", \"start\", \"end\"]\n",
    "bed_columns"
   ]
  },
  {
   "cell_type": "code",
   "execution_count": 13,
   "metadata": {},
   "outputs": [
    {
     "data": {
      "text/html": [
       "<div>\n",
       "<style scoped>\n",
       "    .dataframe tbody tr th:only-of-type {\n",
       "        vertical-align: middle;\n",
       "    }\n",
       "\n",
       "    .dataframe tbody tr th {\n",
       "        vertical-align: top;\n",
       "    }\n",
       "\n",
       "    .dataframe thead th {\n",
       "        text-align: right;\n",
       "    }\n",
       "</style>\n",
       "<table border=\"1\" class=\"dataframe\">\n",
       "  <thead>\n",
       "    <tr style=\"text-align: right;\">\n",
       "      <th></th>\n",
       "      <th>chr</th>\n",
       "      <th>start</th>\n",
       "      <th>end</th>\n",
       "    </tr>\n",
       "  </thead>\n",
       "  <tbody>\n",
       "    <tr>\n",
       "      <th>0</th>\n",
       "      <td>3L</td>\n",
       "      <td>15823270</td>\n",
       "      <td>15830715</td>\n",
       "    </tr>\n",
       "    <tr>\n",
       "      <th>1</th>\n",
       "      <td>2R</td>\n",
       "      <td>11451787</td>\n",
       "      <td>11459612</td>\n",
       "    </tr>\n",
       "    <tr>\n",
       "      <th>2</th>\n",
       "      <td>3R</td>\n",
       "      <td>21665759</td>\n",
       "      <td>21673392</td>\n",
       "    </tr>\n",
       "    <tr>\n",
       "      <th>3</th>\n",
       "      <td>2R</td>\n",
       "      <td>20324929</td>\n",
       "      <td>20331038</td>\n",
       "    </tr>\n",
       "    <tr>\n",
       "      <th>4</th>\n",
       "      <td>3R</td>\n",
       "      <td>19859679</td>\n",
       "      <td>19864278</td>\n",
       "    </tr>\n",
       "    <tr>\n",
       "      <th>...</th>\n",
       "      <td>...</td>\n",
       "      <td>...</td>\n",
       "      <td>...</td>\n",
       "    </tr>\n",
       "    <tr>\n",
       "      <th>3825</th>\n",
       "      <td>3R</td>\n",
       "      <td>565835</td>\n",
       "      <td>566082</td>\n",
       "    </tr>\n",
       "    <tr>\n",
       "      <th>3826</th>\n",
       "      <td>2L</td>\n",
       "      <td>10439373</td>\n",
       "      <td>10442085</td>\n",
       "    </tr>\n",
       "    <tr>\n",
       "      <th>3827</th>\n",
       "      <td>3R</td>\n",
       "      <td>4477321</td>\n",
       "      <td>4479529</td>\n",
       "    </tr>\n",
       "    <tr>\n",
       "      <th>3828</th>\n",
       "      <td>3L</td>\n",
       "      <td>711347</td>\n",
       "      <td>711871</td>\n",
       "    </tr>\n",
       "    <tr>\n",
       "      <th>3829</th>\n",
       "      <td>2L</td>\n",
       "      <td>6792695</td>\n",
       "      <td>6795077</td>\n",
       "    </tr>\n",
       "  </tbody>\n",
       "</table>\n",
       "<p>3830 rows × 3 columns</p>\n",
       "</div>"
      ],
      "text/plain": [
       "     chr     start       end\n",
       "0     3L  15823270  15830715\n",
       "1     2R  11451787  11459612\n",
       "2     3R  21665759  21673392\n",
       "3     2R  20324929  20331038\n",
       "4     3R  19859679  19864278\n",
       "...   ..       ...       ...\n",
       "3825  3R    565835    566082\n",
       "3826  2L  10439373  10442085\n",
       "3827  3R   4477321   4479529\n",
       "3828  3L    711347    711871\n",
       "3829  2L   6792695   6795077\n",
       "\n",
       "[3830 rows x 3 columns]"
      ]
     },
     "execution_count": 13,
     "metadata": {},
     "output_type": "execute_result"
    }
   ],
   "source": [
    "df_k4 = pd.read_table(\"../../qbb2020/data/K4me3.bed\", names=bed_columns)\n",
    "df_k4"
   ]
  },
  {
   "cell_type": "code",
   "execution_count": 14,
   "metadata": {},
   "outputs": [
    {
     "data": {
      "text/plain": [
       "(3830, 3)"
      ]
     },
     "execution_count": 14,
     "metadata": {},
     "output_type": "execute_result"
    }
   ],
   "source": [
    "df_k4.shape"
   ]
  },
  {
   "cell_type": "code",
   "execution_count": 15,
   "metadata": {},
   "outputs": [
    {
     "data": {
      "text/html": [
       "<div>\n",
       "<style scoped>\n",
       "    .dataframe tbody tr th:only-of-type {\n",
       "        vertical-align: middle;\n",
       "    }\n",
       "\n",
       "    .dataframe tbody tr th {\n",
       "        vertical-align: top;\n",
       "    }\n",
       "\n",
       "    .dataframe thead th {\n",
       "        text-align: right;\n",
       "    }\n",
       "</style>\n",
       "<table border=\"1\" class=\"dataframe\">\n",
       "  <thead>\n",
       "    <tr style=\"text-align: right;\">\n",
       "      <th></th>\n",
       "      <th>chr</th>\n",
       "      <th>start</th>\n",
       "      <th>end</th>\n",
       "      <th>width</th>\n",
       "    </tr>\n",
       "  </thead>\n",
       "  <tbody>\n",
       "    <tr>\n",
       "      <th>0</th>\n",
       "      <td>3L</td>\n",
       "      <td>15823270</td>\n",
       "      <td>15830715</td>\n",
       "      <td>7445</td>\n",
       "    </tr>\n",
       "    <tr>\n",
       "      <th>1</th>\n",
       "      <td>2R</td>\n",
       "      <td>11451787</td>\n",
       "      <td>11459612</td>\n",
       "      <td>7825</td>\n",
       "    </tr>\n",
       "    <tr>\n",
       "      <th>2</th>\n",
       "      <td>3R</td>\n",
       "      <td>21665759</td>\n",
       "      <td>21673392</td>\n",
       "      <td>7633</td>\n",
       "    </tr>\n",
       "    <tr>\n",
       "      <th>3</th>\n",
       "      <td>2R</td>\n",
       "      <td>20324929</td>\n",
       "      <td>20331038</td>\n",
       "      <td>6109</td>\n",
       "    </tr>\n",
       "    <tr>\n",
       "      <th>4</th>\n",
       "      <td>3R</td>\n",
       "      <td>19859679</td>\n",
       "      <td>19864278</td>\n",
       "      <td>4599</td>\n",
       "    </tr>\n",
       "    <tr>\n",
       "      <th>...</th>\n",
       "      <td>...</td>\n",
       "      <td>...</td>\n",
       "      <td>...</td>\n",
       "      <td>...</td>\n",
       "    </tr>\n",
       "    <tr>\n",
       "      <th>3825</th>\n",
       "      <td>3R</td>\n",
       "      <td>565835</td>\n",
       "      <td>566082</td>\n",
       "      <td>247</td>\n",
       "    </tr>\n",
       "    <tr>\n",
       "      <th>3826</th>\n",
       "      <td>2L</td>\n",
       "      <td>10439373</td>\n",
       "      <td>10442085</td>\n",
       "      <td>2712</td>\n",
       "    </tr>\n",
       "    <tr>\n",
       "      <th>3827</th>\n",
       "      <td>3R</td>\n",
       "      <td>4477321</td>\n",
       "      <td>4479529</td>\n",
       "      <td>2208</td>\n",
       "    </tr>\n",
       "    <tr>\n",
       "      <th>3828</th>\n",
       "      <td>3L</td>\n",
       "      <td>711347</td>\n",
       "      <td>711871</td>\n",
       "      <td>524</td>\n",
       "    </tr>\n",
       "    <tr>\n",
       "      <th>3829</th>\n",
       "      <td>2L</td>\n",
       "      <td>6792695</td>\n",
       "      <td>6795077</td>\n",
       "      <td>2382</td>\n",
       "    </tr>\n",
       "  </tbody>\n",
       "</table>\n",
       "<p>3830 rows × 4 columns</p>\n",
       "</div>"
      ],
      "text/plain": [
       "     chr     start       end  width\n",
       "0     3L  15823270  15830715   7445\n",
       "1     2R  11451787  11459612   7825\n",
       "2     3R  21665759  21673392   7633\n",
       "3     2R  20324929  20331038   6109\n",
       "4     3R  19859679  19864278   4599\n",
       "...   ..       ...       ...    ...\n",
       "3825  3R    565835    566082    247\n",
       "3826  2L  10439373  10442085   2712\n",
       "3827  3R   4477321   4479529   2208\n",
       "3828  3L    711347    711871    524\n",
       "3829  2L   6792695   6795077   2382\n",
       "\n",
       "[3830 rows x 4 columns]"
      ]
     },
     "execution_count": 15,
     "metadata": {},
     "output_type": "execute_result"
    }
   ],
   "source": [
    "df_k4.loc[:,\"width\"] = df_k4.loc[:,\"end\"] - df_k4.loc[:,\"start\"]\n",
    "df_k4"
   ]
  },
  {
   "cell_type": "markdown",
   "metadata": {},
   "source": [
    "Plotting Length Distribution"
   ]
  },
  {
   "cell_type": "code",
   "execution_count": 21,
   "metadata": {},
   "outputs": [
    {
     "data": {
      "image/png": "[encoded data removed]",
      "text/plain": [
       "<Figure size 432x288 with 1 Axes>"
      ]
     },
     "metadata": {
      "needs_background": "light"
     },
     "output_type": "display_data"
    }
   ],
   "source": [
    "fig,ax = plt.subplots()\n",
    "ax.hist(df_k4.loc[:, \"width\"])\n",
    "ax.set_title(\"K4me3 Length Ditribution\")\n",
    "ax.set_ylabel(\"Region Counts\")\n",
    "ax.set_xlabel(\"Region Length\")\n",
    "plt.show()"
   ]
  },
  {
   "cell_type": "markdown",
   "metadata": {},
   "source": [
    "Plotting Region Counts"
   ]
  },
  {
   "cell_type": "code",
   "execution_count": 17,
   "metadata": {},
   "outputs": [
    {
     "name": "stdout",
     "output_type": "stream",
     "text": [
      "3R                     897\n",
      "2R                     799\n",
      "3L                     773\n",
      "2L                     713\n",
      "X                      580\n",
      "4                       65\n",
      "Y                        2\n",
      "Y_CP007111v1_random      1\n",
      "Name: chr, dtype: int64\n",
      "2L                     713\n",
      "2R                     799\n",
      "3L                     773\n",
      "3R                     897\n",
      "4                       65\n",
      "X                      580\n",
      "Y                        2\n",
      "Y_CP007111v1_random      1\n",
      "Name: chr, dtype: int64\n"
     ]
    },
    {
     "data": {
      "image/png": "[encoded data removed]",
      "text/plain": [
       "<Figure size 432x288 with 1 Axes>"
      ]
     },
     "metadata": {
      "needs_background": "light"
     },
     "output_type": "display_data"
    }
   ],
   "source": [
    "#grabbing the chr column from the pandas dataframe\n",
    "chr_k4_regions= pd.Index(df_k4.loc[:, \"chr\"])\n",
    "\n",
    "#counting up the number of chromosome regions as a series\n",
    "chr_k4 = chr_k4_regions.value_counts()\n",
    "print(chr_k4)\n",
    "\n",
    "#sort the chromosome index\n",
    "sorted_chr_k4 = chr_k4.sort_index()\n",
    "\n",
    "print(sorted_chr_k4)\n",
    "\n",
    "#bar plot of number of regions\n",
    "fig, ax = plt.subplots()\n",
    "ax.bar(sorted_chr_k4.index, sorted_chr_k4)\n",
    "ax.set_title(\"K4me3 Region Counts\")\n",
    "ax.set_ylabel(\"Counts\")\n",
    "ax.set_xlabel(\"Regions\")\n",
    "plt.show()\n"
   ]
  },
  {
   "cell_type": "markdown",
   "metadata": {},
   "source": [
    "## Exercise 3: Plotting Chromosome Distributions Together"
   ]
  },
  {
   "cell_type": "markdown",
   "metadata": {},
   "source": [
    "Grabbing different bed files"
   ]
  },
  {
   "cell_type": "code",
   "execution_count": 18,
   "metadata": {},
   "outputs": [
    {
     "name": "stdout",
     "output_type": "stream",
     "text": [
      "    chr     start       end    width\n",
      "0    2L      5031     13131     8100\n",
      "1    2L    356567    382831    26264\n",
      "2    2L    582167    609431    27264\n",
      "3    2L    975967    996567    20600\n",
      "4    2L   1667067   1687931    20864\n",
      "..   ..       ...       ...      ...\n",
      "291   X  22708532  22720332    11800\n",
      "292   X  22865032  22882596    17564\n",
      "293   X  22981432  23009896    28464\n",
      "294   X  23156000  23204164    48164\n",
      "295   Y    650514   1655192  1004678\n",
      "\n",
      "[296 rows x 4 columns]\n",
      "    chr     start       end   width\n",
      "0    2L      5037      9637    4600\n",
      "1    2L    322173    326237    4064\n",
      "2    2L    365873    398837   32964\n",
      "3    2L    498973    547373   48400\n",
      "4    2L    579973    608037   28064\n",
      "..   ..       ...       ...     ...\n",
      "426   X  20310691  20388555   77864\n",
      "427   X  20534591  20759055  224464\n",
      "428   X  20824191  20835255   11064\n",
      "429   X  20924791  20953755   28964\n",
      "430   X  21464155  21496991   32836\n",
      "\n",
      "[431 rows x 4 columns]\n"
     ]
    }
   ],
   "source": [
    "df_k9 = pd.read_table(\"../../qbb2020/data/K9me3.bed\", names=bed_columns)\n",
    "\n",
    "df_k27 = pd.read_table(\"../../qbb2020/data/K27me3.bed\", names=bed_columns)\n",
    "\n",
    "df_k9.loc[:,\"width\"] = df_k9.loc[:,\"end\"] - df_k9.loc[:,\"start\"]\n",
    "print(df_k9)\n",
    "\n",
    "df_k27.loc[:,\"width\"] = df_k27.loc[:,\"end\"] - df_k27.loc[:,\"start\"]\n",
    "print(df_k27)"
   ]
  },
  {
   "cell_type": "markdown",
   "metadata": {},
   "source": [
    "Putting all plots into the same figure"
   ]
  },
  {
   "cell_type": "code",
   "execution_count": 19,
   "metadata": {},
   "outputs": [
    {
     "data": {
      "image/png": "[encoded data removed]",
      "text/plain": [
       "<Figure size 2160x432 with 3 Axes>"
      ]
     },
     "metadata": {
      "needs_background": "light"
     },
     "output_type": "display_data"
    }
   ],
   "source": [
    "\n",
    "fig1,(ax1, ax2, ax3) = plt.subplots(ncols = 3, figsize = (30, 6))\n",
    "\n",
    "#K4me3\n",
    "chr_k4_regions= pd.Index(df_k4.loc[:, \"chr\"])\n",
    "\n",
    "chr_k4 = chr_k4_regions.value_counts()\n",
    "\n",
    "sorted_chr_k4 = chr_k4.sort_index()\n",
    "\n",
    "ax1.bar(sorted_chr_k4.index, sorted_chr_k4)\n",
    "ax1.set_title(\"K4me3 Region Counts\")\n",
    "ax1.set_ylabel(\"Counts\")\n",
    "ax1.set_xlabel(\"Regions\")\n",
    "\n",
    "#K9me3\n",
    "chr_k9_regions= pd.Index(df_k9.loc[:, \"chr\"])\n",
    "\n",
    "chr_k9 = chr_k9_regions.value_counts()\n",
    "\n",
    "sorted_chr_k9 = chr_k9.sort_index()\n",
    "\n",
    "ax2.bar(sorted_chr_k9.index, sorted_chr_k9)\n",
    "ax2.set_title(\"K9me3 Region Counts\")\n",
    "ax2.set_ylabel(\"Counts\")\n",
    "ax2.set_xlabel(\"Regions\")\n",
    "\n",
    "#K27me3\n",
    "chr_k27_regions= pd.Index(df_k27.loc[:, \"chr\"])\n",
    "\n",
    "chr_k27 = chr_k27_regions.value_counts()\n",
    "\n",
    "sorted_chr_k27 = chr_k27.sort_index()\n",
    "\n",
    "ax3.bar(sorted_chr_k27.index, sorted_chr_k27)\n",
    "ax3.set_title(\"K27me3 Region Counts\")\n",
    "ax3.set_ylabel(\"Counts\")\n",
    "ax3.set_xlabel(\"Regions\")\n",
    "\n",
    "plt.show()"
   ]
  },
  {
   "cell_type": "markdown",
   "metadata": {},
   "source": [
    "## Exercise 4: Plotting Width Distributions Together"
   ]
  },
  {
   "cell_type": "code",
   "execution_count": 20,
   "metadata": {},
   "outputs": [
    {
     "data": {
      "image/png": "[encoded data removed]",
      "text/plain": [
       "<Figure size 1008x432 with 3 Axes>"
      ]
     },
     "metadata": {
      "needs_background": "light"
     },
     "output_type": "display_data"
    }
   ],
   "source": [
    "fig,(ax1, ax2, ax3) = plt.subplots(ncols = 3, figsize = (14, 6))\n",
    "ax1.hist(df_k4.loc[:, \"width\"])\n",
    "ax1.set_title(\"K4me3 Length Distribution\")\n",
    "ax1.set_ylabel(\"Region Counts\")\n",
    "ax1.set_xlabel(\"Region Length\")\n",
    "\n",
    "ax2.hist(df_k9.loc[:, \"width\"])\n",
    "ax2.set_title(\"K9me3 Length Distribution\")\n",
    "ax2.set_ylabel(\"Region Counts\")\n",
    "ax2.set_xlabel(\"Region Length\")\n",
    "\n",
    "ax3.hist(df_k27.loc[:, \"width\"])\n",
    "ax3.set_title(\"K27me3 Length Distribution\")\n",
    "ax3.set_ylabel(\"Region Counts\")\n",
    "ax3.set_xlabel(\"Region Length\")\n",
    "\n",
    "plt.show()"
   ]
  }
 ],
 "metadata": {
  "kernelspec": {
   "display_name": "Python 3",
   "language": "python",
   "name": "python3"
  },
  "language_info": {
   "codemirror_mode": {
    "name": "ipython",
    "version": 3
   },
   "file_extension": ".py",
   "mimetype": "text/x-python",
   "name": "python",
   "nbconvert_exporter": "python",
   "pygments_lexer": "ipython3",
   "version": "3.6.10"
  }
 },
 "nbformat": 4,
 "nbformat_minor": 4
}
