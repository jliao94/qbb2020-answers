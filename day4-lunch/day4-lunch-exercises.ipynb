{
 "cells": [
  {
   "cell_type": "markdown",
   "metadata": {},
   "source": [
    "## Parse .gtf file for relevant fields"
   ]
  },
  {
   "cell_type": "code",
   "execution_count": 1,
   "metadata": {},
   "outputs": [],
   "source": [
    "#1: parse based on chromosome\n",
    "#2: parse based on gene\n",
    "#3: parse based on biotype\n",
    "\n",
    "\n",
    "iFile = open(\"/Users/cmdb/qbb2020-answers/day4-lunch/BDGP6.Ensembl.81.gtf\", 'r')\n",
    "oFile = open(\"parsed_BDGP6.Ensembl.81.gtf\", 'w')\n",
    "\n",
    "\n",
    "for line in iFile:\n",
    "    fields = line.rstrip('\\n\\r').split('\\t')\n",
    "    chromosome = fields[0]\n",
    "    if chromosome == \"3R\":\n",
    "        feature = fields [2]\n",
    "        if feature == \"gene\":\n",
    "            attributes = fields[-1]\n",
    "            if \"protein_coding\" in attributes:\n",
    "                oFile.write(line)\n",
    "            \n",
    "iFile.close()\n",
    "oFile.close()\n"
   ]
  },
  {
   "cell_type": "markdown",
   "metadata": {},
   "source": [
    "## Implement binary search"
   ]
  },
  {
   "cell_type": "code",
   "execution_count": 6,
   "metadata": {},
   "outputs": [
    {
     "name": "stdout",
     "output_type": "stream",
     "text": [
      "3406\n"
     ]
    }
   ],
   "source": [
    "#count number of lines in parsed file\n",
    "numLines = 0\n",
    "with open('/Users/cmdb/qbb2020-answers/day4-lunch/parsed_BDGP6.Ensembl.81.gtf', 'r') as iFile:\n",
    "    for i, line in enumerate(iFile):\n",
    "        pass\n",
    "    numLines = i+1\n"
   ]
  },
  {
   "cell_type": "code",
   "execution_count": 41,
   "metadata": {},
   "outputs": [
    {
     "name": "stdout",
     "output_type": "stream",
     "text": [
      "Converged\n",
      "12\n",
      "3R\tFlyBase\tgene\t21378977\t21381970\t.\t+\t.\tgene_id \"FBgn0004110\"; gene_version \"1\"; gene_name \"tin\"; gene_source \"FlyBase\"; gene_biotype \"protein_coding\";\n",
      "\n"
     ]
    }
   ],
   "source": [
    "target_position = 21378950\n",
    "\n",
    "low = 0\n",
    "high = numLines-1 #decrease by one to ensure no indexing errors\n",
    "mid = int(numLines/2)\n",
    "old_mid = -1\n",
    "\n",
    "binary_counter = 0\n",
    "targetGene = ''\n",
    "nextGene = ''\n",
    "#print (low, mid, high)\n",
    "\n",
    "with open('/Users/cmdb/qbb2020-answers/day4-lunch/parsed_BDGP6.Ensembl.81.gtf', 'r') as iFile:\n",
    "    lines = iFile.readlines()\n",
    "    \n",
    "    while old_mid != mid:\n",
    "        # grab the start and end positions of the current line to look at\n",
    "        currLine = lines[mid]\n",
    "        #print(currLine)\n",
    "        fields = currLine.rstrip('\\n\\r').split('\\t')\n",
    "        start_bp = int(fields[3])\n",
    "        end_bp = int(fields [4])\n",
    "        \n",
    "        #target position is less than gene positions\n",
    "        if target_position < start_bp and target_position < end_bp:\n",
    "            old_mid = mid\n",
    "            high = old_mid\n",
    "            mid = int(((high-low)/2)+low)\n",
    "            #print('too high')\n",
    "            #print(low, mid, high)\n",
    "        \n",
    "        #target position is greater than gene positions\n",
    "        elif target_position > start_bp and target_position > end_bp :\n",
    "            old_mid = mid\n",
    "            low = mid\n",
    "            mid = int((old_mid+high)/2)\n",
    "            #print('too low')\n",
    "            #print(low, mid, high)\n",
    "\n",
    "        #target position has converged\n",
    "        if old_mid == mid:\n",
    "            #print (\"Converged\")\n",
    "            nextLine = lines[mid+1]\n",
    "            nextFields = nextLine.rstrip('\\n\\r').split('\\t')\n",
    "            next_start_bp = int(nextFields[3])\n",
    "            \n",
    "            #target position is within the current gene\n",
    "            if target_position<=end_bp and target_position>=start_bp:\n",
    "                targetGene = currLine\n",
    "           \n",
    "            #target position is closest to current gene\n",
    "            elif (target_position-end_bp)<=(next_start_bp-target_position):\n",
    "                targetGene = currLine\n",
    "            \n",
    "            #target position is closest to the next gene\n",
    "            else:\n",
    "                targetGene = nextLine\n",
    "        \n",
    "            \n",
    "        binary_counter +=1\n",
    "    \n",
    "    \n",
    "    print(binary_counter)\n",
    "    print(targetGene)\n",
    "\n"
   ]
  },
  {
   "cell_type": "code",
   "execution_count": null,
   "metadata": {},
   "outputs": [],
   "source": []
  },
  {
   "cell_type": "code",
   "execution_count": null,
   "metadata": {},
   "outputs": [],
   "source": []
  },
  {
   "cell_type": "code",
   "execution_count": null,
   "metadata": {},
   "outputs": [],
   "source": []
  }
 ],
 "metadata": {
  "kernelspec": {
   "display_name": "Python 3",
   "language": "python",
   "name": "python3"
  },
  "language_info": {
   "codemirror_mode": {
    "name": "ipython",
    "version": 3
   },
   "file_extension": ".py",
   "mimetype": "text/x-python",
   "name": "python",
   "nbconvert_exporter": "python",
   "pygments_lexer": "ipython3",
   "version": "3.6.10"
  }
 },
 "nbformat": 4,
 "nbformat_minor": 4
}
