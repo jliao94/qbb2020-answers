{
 "cells": [
  {
   "cell_type": "code",
   "execution_count": 1,
   "metadata": {},
   "outputs": [],
   "source": [
    "#define input index file\n",
    "iFile = \"/Users/cmdb/qbb2020-answers/assignment1/asm/asm/contigs.fasta.fai\""
   ]
  },
  {
   "cell_type": "code",
   "execution_count": 3,
   "metadata": {},
   "outputs": [
    {
     "name": "stdout",
     "output_type": "stream",
     "text": [
      "N50 is: 39423\n"
     ]
    }
   ],
   "source": [
    "#N50  is defined as the sequence length of the shortest contig at 50% of the total genome length.\n",
    "genomeLength = 233806\n",
    "halfGenome = genomeLength/2\n",
    "with open (iFile, 'r') as f:\n",
    "    contigs = []\n",
    "    for line in f:\n",
    "        fields = line.rstrip('\\r\\n').split('\\t')\n",
    "        contigs.append(fields)\n",
    "    #sort contigs by length\n",
    "    contigs.sort(key=lambda x: x[1])\n",
    "    \n",
    "    #find N50 size\n",
    "    numBases = 0\n",
    "    for contig in contigs:\n",
    "        contig_len = (contig[1])\n",
    "        numBases += int(contig_len)\n",
    "        if numBases >= halfGenome:\n",
    "            print(\"N50 is: \" + contig_len)\n",
    "            break\n",
    "    \n",
    "    "
   ]
  }
 ],
 "metadata": {
  "kernelspec": {
   "display_name": "Python 3",
   "language": "python",
   "name": "python3"
  },
  "language_info": {
   "codemirror_mode": {
    "name": "ipython",
    "version": 3
   },
   "file_extension": ".py",
   "mimetype": "text/x-python",
   "name": "python",
   "nbconvert_exporter": "python",
   "pygments_lexer": "ipython3",
   "version": "3.6.10"
  }
 },
 "nbformat": 4,
 "nbformat_minor": 4
}
