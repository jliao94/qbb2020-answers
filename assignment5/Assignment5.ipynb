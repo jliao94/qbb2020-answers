{
 "cells": [
  {
   "cell_type": "markdown",
   "metadata": {},
   "source": [
    "## Part 1\n"
   ]
  },
  {
   "cell_type": "code",
   "execution_count": 37,
   "metadata": {},
   "outputs": [],
   "source": [
    "import matplotlib.pyplot as plt\n",
    "import numpy as np\n",
    "import pandas as pd"
   ]
  },
  {
   "cell_type": "code",
   "execution_count": 2,
   "metadata": {},
   "outputs": [
    {
     "name": "stdout",
     "output_type": "stream",
     "text": [
      "Lost Region Count: 59\n",
      "Gained Region Count: 123\n"
     ]
    }
   ],
   "source": [
    "#count number of CTCF sites lost or gained from cell differentiation\n",
    "lost_file= \"/Users/cmdb/qbb2020-answers/assignment5/CTCF_lost_in_dif.bed\"\n",
    "gained_file= \"/Users/cmdb/qbb2020-answers/assignment5/CTCF_gained_in_dif.bed\"\n",
    "\n",
    "lostFile = open(lost_file, 'r')\n",
    "gainedFile = open(gained_file, 'r')\n",
    "\n",
    "lost_lines = lostFile.readlines()\n",
    "gained_lines = gainedFile.readlines()\n",
    "\n",
    "numLostRegions = len(lost_lines)\n",
    "numGainedRegions = len(gained_lines)\n",
    "\n",
    "lostFile.close()\n",
    "gainedFile.close()\n",
    "\n",
    "print(\"Lost Region Count: \" + str(numLostRegions))\n",
    "print(\"Gained Region Count: \" + str(numGainedRegions))\n"
   ]
  },
  {
   "cell_type": "code",
   "execution_count": 78,
   "metadata": {},
   "outputs": [
    {
     "name": "stdout",
     "output_type": "stream",
     "text": [
      "['intron', 'exon', 'promoter']\n",
      "[341, 101, 67]\n",
      "['intron', 'exon', 'promoter']\n",
      "[311, 85, 55]\n"
     ]
    }
   ],
   "source": [
    "#count features that overlap with CTCF sites in G1E and ER4 cell lines\n",
    "#G1E is undifferentiated, ER4 is differentiated\n",
    "G1E_file = \"/Users/cmdb/qbb2020-answers/assignment5/G1E_func_regions.bed\"\n",
    "ER4_file = \"/Users/cmdb/qbb2020-answers/assignment5/ER4_func_regions.bed\"\n",
    "\n",
    "#dictionary where feature are the key, and stored values are # of feature overlaps\n",
    "G1E_regions = {}\n",
    "ER4_regions = {}\n",
    "\n",
    "with open(G1E_file, 'r') as f:\n",
    "    for line in f:\n",
    "        fields = line.rstrip().split('\\t')\n",
    "        feature = fields[3]\n",
    "        if feature not in G1E_regions.keys():\n",
    "            G1E_regions[feature] = 1\n",
    "        else:\n",
    "            G1E_regions[feature] +=1\n",
    "            \n",
    "            \n",
    "with open(ER4_file, 'r') as f:\n",
    "    for line in f:\n",
    "        fields = line.rstrip().split('\\t')\n",
    "        feature = fields[3]\n",
    "        if feature not in ER4_regions.keys():\n",
    "            ER4_regions[feature] = 1\n",
    "        else:\n",
    "            ER4_regions[feature] +=1\n",
    "\n",
    "#print(G1E_regions)\n",
    "#print(ER4_regions)\n",
    "    \n",
    "G1E_features = []\n",
    "ER4_features = []\n",
    "G1E_fcounts = []\n",
    "ER4_fcounts = []\n",
    "\n",
    "for key, value in G1E_regions.items():\n",
    "    G1E_features.append(key)\n",
    "    G1E_fcounts.append(value)\n",
    "    \n",
    "for key, value in ER4_regions.items():\n",
    "    ER4_features.append(key)\n",
    "    ER4_fcounts.append(value)\n",
    "    \n",
    "print(ER4_features)\n",
    "print(ER4_fcounts)\n",
    "print(G1E_features)\n",
    "print(G1E_fcounts)\n",
    "    \n",
    "#df = pd.DataFrame(G1E_fcounts, G1E_features,columns = [\"G1E\"])\n",
    "#df[\"ER4\"] = ER4_fcounts\n",
    "\n",
    "\n",
    "\n"
   ]
  },
  {
   "cell_type": "code",
   "execution_count": 87,
   "metadata": {},
   "outputs": [
    {
     "data": {
      "image/png": "[encoded data removed]",
      "text/plain": [
       "<Figure size 1008x432 with 2 Axes>"
      ]
     },
     "metadata": {
      "needs_background": "light"
     },
     "output_type": "display_data"
    }
   ],
   "source": [
    "fig, (ax1, ax2) = plt.subplots(ncols = 2, figsize = (14,6))\n",
    "ax1_labels = [\"Lost\", \"Gained\"]\n",
    "ax1_values = [numLostRegions, numGainedRegions]\n",
    "width = 0.35\n",
    "\n",
    "x = np.arange(len(ER4_regions))\n",
    "\n",
    "CTCF_dif = ax1.bar(ax1_labels, ax1_values)\n",
    "\n",
    "undifferentiated = ax2.bar(x-width/2, G1E_fcounts, width, label = \"G1E Undifferentiated\")\n",
    "differentiated = ax2.bar(x+width/2, ER4_fcounts, width, label = \"ER4 Differentiated\")\n",
    "\n",
    "\n",
    "\n",
    "ax1.set_title(\"Diffential CTCF Binding\")\n",
    "ax1.set_ylabel(\"Number of Regions\")\n",
    "ax2.set_title(\"Features Overlapping with CTCF\")\n",
    "ax2.set_ylabel(\"Count\")\n",
    "ax2.legend()\n",
    "ax2.set_xticks(x)\n",
    "ax2.set_xticklabels((\"Intron\", \"Exon\", \"Promoter\"))\n",
    "\n",
    "plt.show()"
   ]
  },
  {
   "cell_type": "code",
   "execution_count": null,
   "metadata": {},
   "outputs": [],
   "source": []
  },
  {
   "cell_type": "code",
   "execution_count": null,
   "metadata": {},
   "outputs": [],
   "source": []
  },
  {
   "cell_type": "code",
   "execution_count": null,
   "metadata": {},
   "outputs": [],
   "source": []
  }
 ],
 "metadata": {
  "kernelspec": {
   "display_name": "Python 3",
   "language": "python",
   "name": "python3"
  },
  "language_info": {
   "codemirror_mode": {
    "name": "ipython",
    "version": 3
   },
   "file_extension": ".py",
   "mimetype": "text/x-python",
   "name": "python",
   "nbconvert_exporter": "python",
   "pygments_lexer": "ipython3",
   "version": "3.6.10"
  }
 },
 "nbformat": 4,
 "nbformat_minor": 4
}
