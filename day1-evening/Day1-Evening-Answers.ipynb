{
 "cells": [
  {
   "cell_type": "markdown",
   "metadata": {},
   "source": [
    "Define environment and grab the file path"
   ]
  },
  {
   "cell_type": "code",
   "execution_count": 1,
   "metadata": {},
   "outputs": [],
   "source": [
    "#!/usr/bin/env python3\n",
    "inputSAM = '/Users/cmdb/data/results/SRR072893.sam'\n",
    "        "
   ]
  },
  {
   "cell_type": "markdown",
   "metadata": {},
   "source": [
    "Count number of alignments"
   ]
  },
  {
   "cell_type": "code",
   "execution_count": 2,
   "metadata": {
    "scrolled": true
   },
   "outputs": [
    {
     "name": "stdout",
     "output_type": "stream",
     "text": [
      "2000000\n"
     ]
    }
   ],
   "source": [
    "numAlignments = 0\n",
    "with open (inputSAM, 'r') as file:\n",
    "    for line in file:\n",
    "        numAlignments+=1\n",
    "        \n",
    "print(numAlignments)\n",
    "\n",
    "        "
   ]
  },
  {
   "cell_type": "markdown",
   "metadata": {},
   "source": [
    "Count number of perfect alignments"
   ]
  },
  {
   "cell_type": "code",
   "execution_count": 3,
   "metadata": {
    "scrolled": true
   },
   "outputs": [
    {
     "name": "stdout",
     "output_type": "stream",
     "text": [
      "1702765\n"
     ]
    }
   ],
   "source": [
    "perfAlignments = 0\n",
    "with open(inputSAM, 'r') as file:\n",
    "    for line in file:\n",
    "        \n",
    "        flags = line.rstrip().split('\\t')\n",
    "        \n",
    "        # NM:i:# flag is the edit distance between read and reference alignment\n",
    "        if \"NM:i:0\" in flags:\n",
    "            perfAlignments +=1\n",
    "            \n",
    "print(perfAlignments)"
   ]
  },
  {
   "cell_type": "markdown",
   "metadata": {},
   "source": [
    "Output chromosome alignment of first 10 reads"
   ]
  },
  {
   "cell_type": "code",
   "execution_count": 4,
   "metadata": {},
   "outputs": [
    {
     "name": "stdout",
     "output_type": "stream",
     "text": [
      "['2L', '2L', '2L', '2L', '2L', '2L', '2L', '2L', '2L', '2L']\n"
     ]
    }
   ],
   "source": [
    "chromPosition = []\n",
    "counter = 0\n",
    "with open(inputSAM, 'r') as file:\n",
    "    for line in file:\n",
    "        if counter <10:\n",
    "            flags = line.rstrip().split('\\t')\n",
    "            chromPosition.append(flags[2])\n",
    "            counter +=1\n",
    "            \n",
    "        \n",
    "        \n",
    "print(chromPosition)\n",
    "        "
   ]
  },
  {
   "cell_type": "markdown",
   "metadata": {},
   "source": [
    "Calculate average MAPQ Score"
   ]
  },
  {
   "cell_type": "code",
   "execution_count": 5,
   "metadata": {},
   "outputs": [
    {
     "name": "stdout",
     "output_type": "stream",
     "text": [
      "59.6407825\n"
     ]
    }
   ],
   "source": [
    "totalMAPQ = 0\n",
    "numSequences = 0\n",
    "with open(inputSAM, 'r') as file:\n",
    "    for line in file:      \n",
    "        flags = line.rstrip().split('\\t')\n",
    "        MAPQ = int(flags[4])\n",
    "        totalMAPQ = totalMAPQ + MAPQ\n",
    "        numSequences+=1\n",
    "    averageMAPQ = totalMAPQ/numSequences\n",
    "print(averageMAPQ)\n"
   ]
  },
  {
   "cell_type": "markdown",
   "metadata": {},
   "source": [
    "Count number of reads that start in chromosome 2L and start between base 10000 and 20000 inclusive"
   ]
  },
  {
   "cell_type": "code",
   "execution_count": 6,
   "metadata": {},
   "outputs": [
    {
     "name": "stdout",
     "output_type": "stream",
     "text": [
      "7550\n"
     ]
    }
   ],
   "source": [
    "\n",
    "numSequences = 0\n",
    "with open(inputSAM, 'r') as file:\n",
    "    for line in file:      \n",
    "        flags = line.rstrip().split('\\t')\n",
    "        chromosome = flags[2]\n",
    "        if chromosome == '2L':\n",
    "            basePosition = int(flags[3])\n",
    "            if basePosition >= 10000 and basePosition <=20000:\n",
    "                numSequences +=1\n",
    "                \n",
    "print(numSequences)\n",
    "\n",
    "\n",
    "        "
   ]
  },
  {
   "cell_type": "code",
   "execution_count": null,
   "metadata": {},
   "outputs": [],
   "source": []
  }
 ],
 "metadata": {
  "kernelspec": {
   "display_name": "Python 3",
   "language": "python",
   "name": "python3"
  },
  "language_info": {
   "codemirror_mode": {
    "name": "ipython",
    "version": 3
   },
   "file_extension": ".py",
   "mimetype": "text/x-python",
   "name": "python",
   "nbconvert_exporter": "python",
   "pygments_lexer": "ipython3",
   "version": "3.6.10"
  }
 },
 "nbformat": 4,
 "nbformat_minor": 4
}
