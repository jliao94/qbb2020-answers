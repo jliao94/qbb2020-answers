{
 "cells": [
  {
   "cell_type": "markdown",
   "metadata": {},
   "source": [
    "## Part 4"
   ]
  },
  {
   "cell_type": "markdown",
   "metadata": {},
   "source": [
    "Calculate the dN/dS ratio and generate a plot of dN/dS values"
   ]
  },
  {
   "cell_type": "code",
   "execution_count": 1,
   "metadata": {},
   "outputs": [],
   "source": [
    "#import statements\n",
    "import sys\n",
    "from fasta_iterator_class import FASTAReader\n",
    "import matplotlib.pyplot as plt\n",
    "import scipy \n",
    "from scipy import stats\n",
    "import numpy as np"
   ]
  },
  {
   "cell_type": "code",
   "execution_count": 2,
   "metadata": {},
   "outputs": [],
   "source": [
    "input_file = \"/Users/cmdb/qbb2020-answers/assignment4/conv_DNA_seqs.fa\""
   ]
  },
  {
   "cell_type": "code",
   "execution_count": 3,
   "metadata": {},
   "outputs": [],
   "source": [
    "alignments_file = FASTAReader(open(input_file))\n",
    "alignments = []\n",
    "\n",
    "codontable = {\n",
    "'ATA':'I', 'ATC':'I', 'ATT':'I', 'ATG':'M',\n",
    "'ACA':'T', 'ACC':'T', 'ACG':'T', 'ACT':'T',\n",
    "'AAC':'N', 'AAT':'N', 'AAA':'K', 'AAG':'K',\n",
    "'AGC':'S', 'AGT':'S', 'AGA':'R', 'AGG':'R',\n",
    "'CTA':'L', 'CTC':'L', 'CTG':'L', 'CTT':'L',\n",
    "'CCA':'P', 'CCC':'P', 'CCG':'P', 'CCT':'P',\n",
    "'CAC':'H', 'CAT':'H', 'CAA':'Q', 'CAG':'Q',\n",
    "'CGA':'R', 'CGC':'R', 'CGG':'R', 'CGT':'R',\n",
    "'GTA':'V', 'GTC':'V', 'GTG':'V', 'GTT':'V',\n",
    "'GCA':'A', 'GCC':'A', 'GCG':'A', 'GCT':'A',\n",
    "'GAC':'D', 'GAT':'D', 'GAA':'E', 'GAG':'E',\n",
    "'GGA':'G', 'GGC':'G', 'GGG':'G', 'GGT':'G',\n",
    "'TCA':'S', 'TCC':'S', 'TCG':'S', 'TCT':'S',\n",
    "'TTC':'F', 'TTT':'F', 'TTA':'L', 'TTG':'L',\n",
    "'TAC':'Y', 'TAT':'Y', 'TAA':'_', 'TAG':'_',\n",
    "'TGC':'C', 'TGT':'C', 'TGA':'_', 'TGG':'W'\n",
    "}\n",
    "\n",
    "\n",
    "for seq_id, sequence in alignments_file:\n",
    "    alignments.append((seq_id, sequence))\n",
    "    \n",
    "query = alignments[0]\n",
    "del alignments[0]\n",
    "query_sequence = query[1]\n",
    "#print(query_sequence)\n",
    "\n",
    "dS = []\n",
    "dN = []\n",
    "\n",
    "\n",
    "#initialize list of query codons\n",
    "nucleotide_counter = 0\n",
    "query_codons = []\n",
    "codon = ''\n",
    "for nucleotide in query_sequence:\n",
    "    codon = codon + nucleotide\n",
    "    nucleotide_counter +=1\n",
    "    if nucleotide_counter%3 == 0:\n",
    "        if codon == \"---\":\n",
    "            dS.append('nan')\n",
    "            dN.append('nan')\n",
    "        else:\n",
    "            dS.append(0)\n",
    "            dN.append(0)\n",
    "                      \n",
    "        query_codons.append(codon)\n",
    "        codon = ''\n",
    "        nucleotide_counter = 0\n",
    "        \n",
    "        "
   ]
  },
  {
   "cell_type": "code",
   "execution_count": 4,
   "metadata": {},
   "outputs": [],
   "source": [
    "#count number of synonymous and nonsynonymous mutations\n",
    "for alignment in alignments:\n",
    "    alignment_sequence = alignment[1]\n",
    "    start = 0\n",
    "    end = 3\n",
    "    for j, query_codon in enumerate(query_codons):\n",
    "        alignment_codon = alignment_sequence[start:end]\n",
    "        \n",
    "        #ignore empty codons in query\n",
    "        if query_codon == \"---\":\n",
    "            start +=3\n",
    "            end +=3\n",
    "            continue\n",
    "        \n",
    "        #ignore empty codon in alignment sequence\n",
    "        elif alignment_codon == \"---\":\n",
    "            start +=3\n",
    "            end +=3\n",
    "        \n",
    "        #perfect match, no mutation\n",
    "        elif alignment_codon == query_codon:\n",
    "            start +=3\n",
    "            end +=3\n",
    "        \n",
    "        #alignment[start:end] != query_codon:, some sort of mutation\n",
    "        else:\n",
    "            if alignment_codon in codontable:\n",
    "                #synonmymous mutation\n",
    "                if codontable[query_codon] == codontable[alignment_codon]:\n",
    "                    dS[j]+=1\n",
    "                \n",
    "                #non-synonymous mutation\n",
    "                else:\n",
    "                    dN[j]+=1\n",
    "\n",
    "            \n",
    "    \n",
    "    "
   ]
  },
  {
   "cell_type": "code",
   "execution_count": 5,
   "metadata": {},
   "outputs": [],
   "source": [
    "#calculate ratio of non_synonymous mutations to synonymous\n",
    "dN_dS = []\n",
    "for i, synonymous in enumerate(dS):\n",
    "    non_synonymous = dN[i]\n",
    "    if synonymous == \"nan\" or non_synonymous == \"nan\":\n",
    "        dN_dS.append(\"nan\")\n",
    "    elif synonymous == 0 or non_synonymous == 0:\n",
    "        dN_dS.append(\"nan\")\n",
    "    else:\n",
    "        dN_dS.append(non_synonymous/synonymous)\n",
    "        \n",
    "\n"
   ]
  },
  {
   "cell_type": "code",
   "execution_count": 6,
   "metadata": {},
   "outputs": [],
   "source": [
    "#place position of codon and dN/dS ratios in separate lists without nan\n",
    "filtered_ratios = []\n",
    "codon_position = []\n",
    "for i, ratio in enumerate(dN_dS):\n",
    "    if ratio == \"nan\":\n",
    "        continue\n",
    "    \n",
    "    filtered_ratios.append(ratio)\n",
    "    codon_position.append(i)\n",
    "\n"
   ]
  },
  {
   "cell_type": "code",
   "execution_count": 7,
   "metadata": {},
   "outputs": [],
   "source": [
    "#calculate D = dN - dS without nan\n",
    "difference = []\n",
    "for i, synonymous in enumerate(dS):\n",
    "    non_synonymous = dN[i]\n",
    "    if synonymous == \"nan\" or non_synonymous == \"nan\":\n",
    "        continue\n",
    "    elif synonymous == 0 or non_synonymous == 0:\n",
    "        continue\n",
    "    else:\n",
    "        difference.append(non_synonymous-synonymous)\n",
    "        \n",
    "#calulate p-values\n",
    "difference = np.array(difference)\n",
    "z_scores = stats.zscore(difference)\n",
    "\n",
    "z_scores = list(z_scores)"
   ]
  },
  {
   "cell_type": "code",
   "execution_count": 8,
   "metadata": {},
   "outputs": [],
   "source": [
    "#make separate lists of insignificant and signicant ratios for plotting\n",
    "sig_ratios = []\n",
    "insig_ratios = []\n",
    "sig_positions = []\n",
    "insig_positions = []\n",
    "\n",
    "for i, z_score in enumerate(z_scores):\n",
    "    #significant\n",
    "    if z_score<-1.96 or z_score>1.96:\n",
    "        sig_ratios.append(filtered_ratios[i])\n",
    "        sig_positions.append(codon_position[i])\n",
    "    #insignificant\n",
    "    else:\n",
    "        insig_ratios.append(filtered_ratios[i])\n",
    "        insig_positions.append(codon_position[i])\n",
    "        \n",
    "  "
   ]
  },
  {
   "cell_type": "code",
   "execution_count": 9,
   "metadata": {},
   "outputs": [
    {
     "data": {
      "image/png": "[encoded data removed]",
      "text/plain": [
       "<Figure size 432x288 with 1 Axes>"
      ]
     },
     "metadata": {
      "needs_background": "light"
     },
     "output_type": "display_data"
    }
   ],
   "source": [
    "#generate dN/dS plot, samples marked with gold are significant\n",
    "fig, ax = plt.subplots()\n",
    "ax.scatter(sig_positions, sig_ratios, marker = '.', color = 'gold')\n",
    "ax.scatter(insig_positions, insig_ratios, marker = '.', color ='black')\n",
    "ax.set_yscale('log', base=2)\n",
    "plt.title(\"dN/dS Ratios\")\n",
    "plt.xlabel(\"Codon Position\")\n",
    "plt.ylabel(\"dN/dS\")\n",
    "\n",
    "plt.show()"
   ]
  }
 ],
 "metadata": {
  "kernelspec": {
   "display_name": "Python 3",
   "language": "python",
   "name": "python3"
  },
  "language_info": {
   "codemirror_mode": {
    "name": "ipython",
    "version": 3
   },
   "file_extension": ".py",
   "mimetype": "text/x-python",
   "name": "python",
   "nbconvert_exporter": "python",
   "pygments_lexer": "ipython3",
   "version": "3.6.10"
  }
 },
 "nbformat": 4,
 "nbformat_minor": 4
}
